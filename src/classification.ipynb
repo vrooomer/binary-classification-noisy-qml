{
 "cells": [
  {
   "cell_type": "markdown",
   "metadata": {},
   "source": [
    "## 1. **Creating our circuits (for $l=0,...,4$)**"
   ]
  },
  {
   "cell_type": "code",
   "execution_count": 3,
   "metadata": {},
   "outputs": [
    {
     "data": {
      "image/png": "[encoded data removed]",
      "text/plain": [
       "<Figure size 538.128x200.667 with 1 Axes>"
      ]
     },
     "execution_count": 3,
     "metadata": {},
     "output_type": "execute_result"
    }
   ],
   "source": [
    "from qiskit import QuantumCircuit\n",
    "from qiskit.circuit import ParameterVector\n",
    "from gates import feature_gate, local_rot_gate\n",
    "\n",
    "# Our circuits have the same input space\n",
    "n_qubits = 2\n",
    "n_dims = n_qubits\n",
    "inputs = ParameterVector('input', n_dims)\n",
    "min_layers = 0\n",
    "max_layers = 4\n",
    "qcs = []\n",
    "\n",
    "for n_layers in range(min_layers, max_layers+1):\n",
    "    weights = ParameterVector('weight', 2*n_qubits*(n_layers+1))\n",
    "\n",
    "    # Feature map\n",
    "    qc = QuantumCircuit(n_qubits)\n",
    "    qc.append(feature_gate(inputs[0], inputs[1]), range(n_qubits))\n",
    "    qc.barrier()\n",
    "\n",
    "    # Parametric layer\n",
    "    for i in range(n_qubits):\n",
    "        qc.append(local_rot_gate(weights[2*i], weights[2*i+1], label=r'$\\theta_'+str(i)+'$'), [i])\n",
    "\n",
    "    for l in range(n_layers):\n",
    "        qc.barrier()\n",
    "        qc.cz(0, 1)\n",
    "        for i in range(n_qubits):\n",
    "            qc.append(local_rot_gate(weights[2*(n_qubits*(l+1)+i)], weights[2*(n_qubits*(l+1)+i)+1], \n",
    "            label=r'$\\theta_'+str(i)+r'^'+str(l+1)+r'$'), [i])\n",
    "    qcs.append(qc)\n",
    "\n",
    "qcs[0].draw(output='mpl')"
   ]
  },
  {
   "cell_type": "markdown",
   "metadata": {},
   "source": [
    "## 2. **Setting our Neural Networks**\n",
    "For that, we'll use `qiskit_machine_learning`'s `SamplerQNN` that will output the empirical probabilities of the two classes given a parity function (here $f = Z_1Z_2$) and weights that we'll optimize.\n",
    "We'll work with a binary classifier, the class index $0$ corresponds to the class $+1$ and the class index $1$ to the class $-1$."
   ]
  },
  {
   "cell_type": "code",
   "execution_count": null,
   "metadata": {},
   "outputs": [],
   "source": [
    "from qnn import AerQNN\n",
    "\n",
    "# We create our NNs (training and evaluation)\n",
    "num_shots_train = 2000\n",
    "num_shots_eval = 10000\n",
    "noise_rate = 0.8\n",
    "train_qnns = []\n",
    "test_qnns = []\n",
    "for qc in qcs:\n",
    "    qnn = AerQNN(qc, n_dims, n_shots=num_shots_train, noise_rate=noise_rate)\n",
    "    train_qnns.append(qnn)\n",
    "    qnn = AerQNN(qc, n_dims, n_shots=num_shots_eval, noise_rate=noise_rate)\n",
    "    test_qnns.append(qnn)"
   ]
  },
  {
   "cell_type": "markdown",
   "metadata": {},
   "source": [
    "### 2.1 **Setting our datasets**"
   ]
  },
  {
   "cell_type": "code",
   "execution_count": 10,
   "metadata": {},
   "outputs": [
    {
     "data": {
      "text/plain": [
       "[{'input': [1.7659725457302826, 0.6303145937419159], 'label': -1.0},\n",
       " {'input': [5.803656345258584, 1.3326750203869937], 'label': -1.0},\n",
       " {'input': [0.35463260954782977, 5.454558999145612], 'label': 1.0}]"
      ]
     },
     "execution_count": 10,
     "metadata": {},
     "output_type": "execute_result"
    }
   ],
   "source": [
    "# Load a our labeled datasets\n",
    "from utility import load_list\n",
    "training_dataset = load_list('datasets/train_dataset-2.json')\n",
    "testing_dataset = load_list('datasets/eval_dataset-2.json')\n",
    "training_dataset[:3]"
   ]
  },
  {
   "cell_type": "markdown",
   "metadata": {},
   "source": [
    "## 3. **Training our QNNs**"
   ]
  },
  {
   "cell_type": "markdown",
   "metadata": {},
   "source": [
    "### 3.1 **Using Empirical Risk $R_{emp}$**\n",
    "Before the training, we need to define what error metric to use and the objective function we want to minimize. The error metric with simply be the sum of the probabilities to label wrong, i.e.\n",
    "$$\n",
    "R_{emp}(\\vec\\theta, b)=\\frac{1}{|T|}\\sum_{\\vec x \\in T}Pr(\\tilde m(\\vec x) \\neq m(\\vec x)) \\approx\n",
    "\\frac{1}{|T|}\\sum_{\\vec x \\in T}\n",
    "\\text{sig}\\left(\n",
    "\\frac{\\sqrt R \\left(\\frac{1}{2}-\\left(\\hat p_y(\\vec x)-\\frac{yb}{2}\\right)\\right)}\n",
    "{\\sqrt{2(1-\\hat p_y(\\vec x))\\hat p_y(\\vec x)}}\n",
    "\\right)\n",
    "$$\n",
    "Where $b$ is a bias to be optimized and $y = m(\\vec x)$."
   ]
  },
  {
   "cell_type": "code",
   "execution_count": null,
   "metadata": {},
   "outputs": [],
   "source": [
    "from qnn import training\n",
    "import numpy as np\n",
    "\n",
    "# Training using scipy.optimize's COBYLA\n",
    "logs_list = []\n",
    "for i, qnn in enumerate(train_qnns):\n",
    "    print(f'==== CIRCUIT l={i} ==== ')\n",
    "    logs = training(\n",
    "        train_qnn=qnn,\n",
    "        test_qnn=test_qnns[i],\n",
    "        init_weights=((np.random.rand(qnn.n_weights)-0.5)*np.pi/2).tolist(),\n",
    "        init_bias=0,\n",
    "        training_dataset=training_dataset,\n",
    "        testing_dataset=testing_dataset,\n",
    "        n_iter=200,\n",
    "        fun='emp_risk'\n",
    "    )\n",
    "    logs_list.append(logs)"
   ]
  },
  {
   "cell_type": "code",
   "execution_count": 5,
   "metadata": {},
   "outputs": [],
   "source": [
    "from utility import save_list\n",
    "# We can save the weights and logs\n",
    "save_list(logs_list, f'records/empr_d2_1_n0.45.json')"
   ]
  },
  {
   "cell_type": "markdown",
   "metadata": {},
   "source": [
    "### 3.2 **Analyzing noise effect on predictions**\n",
    "To see of the estimation of $\\langle M_y \\rangle$ is biased by noise, we run the circuits on arbitrary weights and inputs. Making $\\lambda$ vary by increasing the number of pairs of CZ gates."
   ]
  },
  {
   "cell_type": "code",
   "execution_count": null,
   "metadata": {},
   "outputs": [],
   "source": [
    "from qnn import AerQNN\n",
    "import numpy as np\n",
    "\n",
    "# rows: circuits by Q value\n",
    "q_qnns = []\n",
    "q_steps = 50\n",
    "qs = np.linspace(0, 1, q_steps)\n",
    "q_l = 3\n",
    "for q in qs:\n",
    "    qnns = []\n",
    "    p = 1 - q**(1/q_l)\n",
    "    qnn = AerQNN(qcs[q_l], n_dims, n_shots=2000, noise_rate=p)\n",
    "    q_qnns.append(qnn)"
   ]
  },
  {
   "cell_type": "code",
   "execution_count": 46,
   "metadata": {},
   "outputs": [],
   "source": [
    "# We choose our weights\n",
    "import json\n",
    "with open(f'records_old/cobyla_d2_1_nn.json', 'r') as file:\n",
    "    record = json.load(file)\n",
    "    weights = record['weights'][q_l]"
   ]
  },
  {
   "cell_type": "code",
   "execution_count": 49,
   "metadata": {},
   "outputs": [],
   "source": [
    "# Run estimations on (pi,pi) save only + prob\n",
    "estimations = []\n",
    "exact = []\n",
    "point = [np.pi, 1.5*np.pi]\n",
    "for qnn in q_qnns:\n",
    "    probs = qnn.lmbd_forward(point, weights[1:])\n",
    "    estimations.append([prob[0][0] for prob in probs])\n",
    "    exact.append(qnn.exact_expectation(point, weights[1:]))\n"
   ]
  },
  {
   "cell_type": "code",
   "execution_count": 50,
   "metadata": {},
   "outputs": [],
   "source": [
    "# Save everything\n",
    "record = {'estimations': estimations, 'exact': exact}\n",
    "with open(f'records/q_est_d2_pi_3pi2_2k.json', 'w') as file:\n",
    "    json.dump(record, file)"
   ]
  },
  {
   "cell_type": "markdown",
   "metadata": {},
   "source": [
    "### 3.3 **Combining $R_{emp}$ with ZNE**"
   ]
  },
  {
   "cell_type": "code",
   "execution_count": null,
   "metadata": {},
   "outputs": [],
   "source": [
    "from qnn import training\n",
    "import numpy as np\n",
    "\n",
    "# Training using scipy.optimize's COBYLA\n",
    "logs_list = []\n",
    "for i, qnn in enumerate(train_qnns):\n",
    "    print(f'==== CIRCUIT l={i} ==== ')\n",
    "    logs = training(\n",
    "        train_qnn=qnn,\n",
    "        test_qnn=test_qnns[i],\n",
    "        init_weights=((np.random.rand(qnn.n_weights)-0.5)*np.pi/2).tolist(),\n",
    "        init_bias=0,\n",
    "        training_dataset=training_dataset,\n",
    "        testing_dataset=testing_dataset,\n",
    "        n_iter=200,\n",
    "        fun='emp_risk',\n",
    "        zne=True\n",
    "    )\n",
    "    logs_list.append(logs)"
   ]
  },
  {
   "cell_type": "code",
   "execution_count": 12,
   "metadata": {},
   "outputs": [],
   "source": [
    "from utility import save_list\n",
    "# We can save the weights and logs\n",
    "save_list(logs_list, f'records/zne_d2_2k_10k_n0.8.json')"
   ]
  }
 ],
 "metadata": {
  "kernelspec": {
   "display_name": "qml",
   "language": "python",
   "name": "python3"
  },
  "language_info": {
   "codemirror_mode": {
    "name": "ipython",
    "version": 3
   },
   "file_extension": ".py",
   "mimetype": "text/x-python",
   "name": "python",
   "nbconvert_exporter": "python",
   "pygments_lexer": "ipython3",
   "version": "3.9.21"
  }
 },
 "nbformat": 4,
 "nbformat_minor": 2
}
